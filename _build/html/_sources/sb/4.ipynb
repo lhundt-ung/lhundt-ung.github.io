{
 "cells": [
  {
   "cell_type": "markdown",
   "metadata": {},
   "source": [
    "# 1.4 Historical Stock Prices"
   ]
  },
  {
   "cell_type": "code",
   "execution_count": 9,
   "metadata": {},
   "outputs": [],
   "source": [
    "from datascience import *\n",
    "import numpy as np\n",
    "\n",
    "%matplotlib inline\n",
    "import matplotlib.pyplot as plots\n",
    "plots.style.use('fivethirtyeight')"
   ]
  },
  {
   "cell_type": "markdown",
   "metadata": {},
   "source": [
    "## Warning!! Do not execute code block below unless you have a good bandwidth connection and are prepared to wait 60+ seconds."
   ]
  },
  {
   "cell_type": "markdown",
   "metadata": {},
   "source": [
    "The file `stocks.csv` includes thousands of historical stock prices from 1970 to 2018. The file is 2GB of data which, given time, Python can read into this notebook. I have created some subsets of the table, however, which you may want to work with first before downloading the big daddy table."
   ]
  },
  {
   "cell_type": "code",
   "execution_count": 10,
   "metadata": {},
   "outputs": [],
   "source": [
    "#stocks =  Table.read_table('http://faculty.ung.edu/rsinn/stocks.csv')"
   ]
  },
  {
   "cell_type": "code",
   "execution_count": 12,
   "metadata": {},
   "outputs": [],
   "source": [
    "### The following subsets are much smaller files"
   ]
  },
  {
   "cell_type": "code",
   "execution_count": 13,
   "metadata": {},
   "outputs": [
    {
     "data": {
      "text/html": [
       "<table border=\"1\" class=\"dataframe\">\n",
       "    <thead>\n",
       "        <tr>\n",
       "            <th>ticker</th> <th>open</th> <th>close</th> <th>adj_close</th> <th>low</th> <th>high</th> <th>volume</th> <th>date</th>\n",
       "        </tr>\n",
       "    </thead>\n",
       "    <tbody>\n",
       "        <tr>\n",
       "            <td>MSFT  </td> <td>0.0885417</td> <td>0.0972222</td> <td>0.0708597</td> <td>0.0885417</td> <td>0.101562 </td> <td>1031788800</td> <td>1986-03-13</td>\n",
       "        </tr>\n",
       "        <tr>\n",
       "            <td>MSFT  </td> <td>0.0972222</td> <td>0.100694 </td> <td>0.0733905</td> <td>0.0972222</td> <td>0.102431 </td> <td>308160000 </td> <td>1986-03-14</td>\n",
       "        </tr>\n",
       "        <tr>\n",
       "            <td>MSFT  </td> <td>0.100694 </td> <td>0.102431 </td> <td>0.0746558</td> <td>0.100694 </td> <td>0.103299 </td> <td>133171200 </td> <td>1986-03-17</td>\n",
       "        </tr>\n",
       "        <tr>\n",
       "            <td>MSFT  </td> <td>0.102431 </td> <td>0.0998264</td> <td>0.0727578</td> <td>0.0989583</td> <td>0.103299 </td> <td>67766400  </td> <td>1986-03-18</td>\n",
       "        </tr>\n",
       "        <tr>\n",
       "            <td>MSFT  </td> <td>0.0998264</td> <td>0.0980903</td> <td>0.0714925</td> <td>0.0972222</td> <td>0.100694 </td> <td>47894400  </td> <td>1986-03-19</td>\n",
       "        </tr>\n",
       "        <tr>\n",
       "            <td>MSFT  </td> <td>0.0980903</td> <td>0.0954861</td> <td>0.0695944</td> <td>0.0946181</td> <td>0.0980903</td> <td>58435200  </td> <td>1986-03-20</td>\n",
       "        </tr>\n",
       "        <tr>\n",
       "            <td>MSFT  </td> <td>0.0954861</td> <td>0.0928819</td> <td>0.0676964</td> <td>0.0911458</td> <td>0.0972222</td> <td>59990400  </td> <td>1986-03-21</td>\n",
       "        </tr>\n",
       "        <tr>\n",
       "            <td>MSFT  </td> <td>0.0928819</td> <td>0.0902778</td> <td>0.0657983</td> <td>0.0894097</td> <td>0.0928819</td> <td>65289600  </td> <td>1986-03-24</td>\n",
       "        </tr>\n",
       "        <tr>\n",
       "            <td>MSFT  </td> <td>0.0902778</td> <td>0.0920139</td> <td>0.0670637</td> <td>0.0894097</td> <td>0.0920139</td> <td>32083200  </td> <td>1986-03-25</td>\n",
       "        </tr>\n",
       "        <tr>\n",
       "            <td>MSFT  </td> <td>0.0920139</td> <td>0.0946181</td> <td>0.0689617</td> <td>0.0911458</td> <td>0.0954861</td> <td>22752000  </td> <td>1986-03-26</td>\n",
       "        </tr>\n",
       "    </tbody>\n",
       "</table>\n",
       "<p>... (8172 rows omitted)</p>"
      ],
      "text/plain": [
       "ticker | open      | close     | adj_close | low       | high      | volume     | date\n",
       "MSFT   | 0.0885417 | 0.0972222 | 0.0708597 | 0.0885417 | 0.101562  | 1031788800 | 1986-03-13\n",
       "MSFT   | 0.0972222 | 0.100694  | 0.0733905 | 0.0972222 | 0.102431  | 308160000  | 1986-03-14\n",
       "MSFT   | 0.100694  | 0.102431  | 0.0746558 | 0.100694  | 0.103299  | 133171200  | 1986-03-17\n",
       "MSFT   | 0.102431  | 0.0998264 | 0.0727578 | 0.0989583 | 0.103299  | 67766400   | 1986-03-18\n",
       "MSFT   | 0.0998264 | 0.0980903 | 0.0714925 | 0.0972222 | 0.100694  | 47894400   | 1986-03-19\n",
       "MSFT   | 0.0980903 | 0.0954861 | 0.0695944 | 0.0946181 | 0.0980903 | 58435200   | 1986-03-20\n",
       "MSFT   | 0.0954861 | 0.0928819 | 0.0676964 | 0.0911458 | 0.0972222 | 59990400   | 1986-03-21\n",
       "MSFT   | 0.0928819 | 0.0902778 | 0.0657983 | 0.0894097 | 0.0928819 | 65289600   | 1986-03-24\n",
       "MSFT   | 0.0902778 | 0.0920139 | 0.0670637 | 0.0894097 | 0.0920139 | 32083200   | 1986-03-25\n",
       "MSFT   | 0.0920139 | 0.0946181 | 0.0689617 | 0.0911458 | 0.0954861 | 22752000   | 1986-03-26\n",
       "... (8172 rows omitted)"
      ]
     },
     "execution_count": 13,
     "metadata": {},
     "output_type": "execute_result"
    }
   ],
   "source": [
    "microsoft = Table.read_table('http://faculty.ung.edu/rsinn/msft.csv')\n",
    "microsoft"
   ]
  },
  {
   "cell_type": "markdown",
   "metadata": {},
   "source": [
    "### To create a CSV file from a table and store in current directory"
   ]
  },
  {
   "cell_type": "code",
   "execution_count": 14,
   "metadata": {},
   "outputs": [],
   "source": [
    "# microsoft.to_csv('msft.csv')"
   ]
  },
  {
   "cell_type": "code",
   "execution_count": 15,
   "metadata": {},
   "outputs": [
    {
     "data": {
      "text/html": [
       "<table border=\"1\" class=\"dataframe\">\n",
       "    <thead>\n",
       "        <tr>\n",
       "            <th>ticker</th> <th>open</th> <th>close</th> <th>adj_close</th> <th>low</th> <th>high</th> <th>volume</th> <th>date</th>\n",
       "        </tr>\n",
       "    </thead>\n",
       "    <tbody>\n",
       "        <tr>\n",
       "            <td>AAPL  </td> <td>0.513393</td> <td>0.513393</td> <td>0.0231864</td> <td>0.513393</td> <td>0.515625</td> <td>117258400</td> <td>1980-12-12</td>\n",
       "        </tr>\n",
       "        <tr>\n",
       "            <td>AAPL  </td> <td>0.488839</td> <td>0.486607</td> <td>0.0219766</td> <td>0.486607</td> <td>0.488839</td> <td>43971200 </td> <td>1980-12-15</td>\n",
       "        </tr>\n",
       "        <tr>\n",
       "            <td>AAPL  </td> <td>0.453125</td> <td>0.450893</td> <td>0.0203637</td> <td>0.450893</td> <td>0.453125</td> <td>26432000 </td> <td>1980-12-16</td>\n",
       "        </tr>\n",
       "        <tr>\n",
       "            <td>AAPL  </td> <td>0.462054</td> <td>0.462054</td> <td>0.0208677</td> <td>0.462054</td> <td>0.464286</td> <td>21610400 </td> <td>1980-12-17</td>\n",
       "        </tr>\n",
       "        <tr>\n",
       "            <td>AAPL  </td> <td>0.475446</td> <td>0.475446</td> <td>0.0214726</td> <td>0.475446</td> <td>0.477679</td> <td>18362400 </td> <td>1980-12-18</td>\n",
       "        </tr>\n",
       "        <tr>\n",
       "            <td>AAPL  </td> <td>0.504464</td> <td>0.504464</td> <td>0.0227831</td> <td>0.504464</td> <td>0.506696</td> <td>12157600 </td> <td>1980-12-19</td>\n",
       "        </tr>\n",
       "        <tr>\n",
       "            <td>AAPL  </td> <td>0.529018</td> <td>0.529018</td> <td>0.023892 </td> <td>0.529018</td> <td>0.53125 </td> <td>9340800  </td> <td>1980-12-22</td>\n",
       "        </tr>\n",
       "        <tr>\n",
       "            <td>AAPL  </td> <td>0.551339</td> <td>0.551339</td> <td>0.0249001</td> <td>0.551339</td> <td>0.553571</td> <td>11737600 </td> <td>1980-12-23</td>\n",
       "        </tr>\n",
       "        <tr>\n",
       "            <td>AAPL  </td> <td>0.580357</td> <td>0.580357</td> <td>0.0262107</td> <td>0.580357</td> <td>0.582589</td> <td>12000800 </td> <td>1980-12-24</td>\n",
       "        </tr>\n",
       "        <tr>\n",
       "            <td>AAPL  </td> <td>0.633929</td> <td>0.633929</td> <td>0.0286301</td> <td>0.633929</td> <td>0.636161</td> <td>13893600 </td> <td>1980-12-26</td>\n",
       "        </tr>\n",
       "    </tbody>\n",
       "</table>\n",
       "<p>... (24055 rows omitted)</p>"
      ],
      "text/plain": [
       "ticker | open     | close    | adj_close | low      | high     | volume    | date\n",
       "AAPL   | 0.513393 | 0.513393 | 0.0231864 | 0.513393 | 0.515625 | 117258400 | 1980-12-12\n",
       "AAPL   | 0.488839 | 0.486607 | 0.0219766 | 0.486607 | 0.488839 | 43971200  | 1980-12-15\n",
       "AAPL   | 0.453125 | 0.450893 | 0.0203637 | 0.450893 | 0.453125 | 26432000  | 1980-12-16\n",
       "AAPL   | 0.462054 | 0.462054 | 0.0208677 | 0.462054 | 0.464286 | 21610400  | 1980-12-17\n",
       "AAPL   | 0.475446 | 0.475446 | 0.0214726 | 0.475446 | 0.477679 | 18362400  | 1980-12-18\n",
       "AAPL   | 0.504464 | 0.504464 | 0.0227831 | 0.504464 | 0.506696 | 12157600  | 1980-12-19\n",
       "AAPL   | 0.529018 | 0.529018 | 0.023892  | 0.529018 | 0.53125  | 9340800   | 1980-12-22\n",
       "AAPL   | 0.551339 | 0.551339 | 0.0249001 | 0.551339 | 0.553571 | 11737600  | 1980-12-23\n",
       "AAPL   | 0.580357 | 0.580357 | 0.0262107 | 0.580357 | 0.582589 | 12000800  | 1980-12-24\n",
       "AAPL   | 0.633929 | 0.633929 | 0.0286301 | 0.633929 | 0.636161 | 13893600  | 1980-12-26\n",
       "... (24055 rows omitted)"
      ]
     },
     "execution_count": 15,
     "metadata": {},
     "output_type": "execute_result"
    }
   ],
   "source": [
    "faang = Table.read_table('http://faculty.ung.edu/rsinn/faang.csv')\n",
    "faang"
   ]
  },
  {
   "cell_type": "code",
   "execution_count": 16,
   "metadata": {},
   "outputs": [],
   "source": [
    "facebook = faang.where('ticker','FB')\n",
    "apple = faang.where('ticker','AAPL')\n",
    "amazon = faang.where('ticker','AMZN')\n",
    "netflix = faang.where('ticker','NFLX')\n",
    "google = faang.where('ticker','GOOGL')"
   ]
  },
  {
   "cell_type": "code",
   "execution_count": 17,
   "metadata": {},
   "outputs": [
    {
     "data": {
      "text/html": [
       "<table border=\"1\" class=\"dataframe\">\n",
       "    <thead>\n",
       "        <tr>\n",
       "            <th>ticker</th> <th>open</th> <th>close</th> <th>adj_close</th> <th>low</th> <th>high</th> <th>volume</th> <th>date</th>\n",
       "        </tr>\n",
       "    </thead>\n",
       "    <tbody>\n",
       "        <tr>\n",
       "            <td>FB    </td> <td>42.05</td> <td>38.23</td> <td>38.23    </td> <td>38   </td> <td>45   </td> <td>573576400</td> <td>2012-05-18</td>\n",
       "        </tr>\n",
       "        <tr>\n",
       "            <td>FB    </td> <td>36.53</td> <td>34.03</td> <td>34.03    </td> <td>33   </td> <td>36.66</td> <td>168192700</td> <td>2012-05-21</td>\n",
       "        </tr>\n",
       "        <tr>\n",
       "            <td>FB    </td> <td>32.61</td> <td>31   </td> <td>31       </td> <td>30.94</td> <td>33.59</td> <td>101786600</td> <td>2012-05-22</td>\n",
       "        </tr>\n",
       "        <tr>\n",
       "            <td>FB    </td> <td>31.37</td> <td>32   </td> <td>32       </td> <td>31.36</td> <td>32.5 </td> <td>73600000 </td> <td>2012-05-23</td>\n",
       "        </tr>\n",
       "        <tr>\n",
       "            <td>FB    </td> <td>32.95</td> <td>33.03</td> <td>33.03    </td> <td>31.77</td> <td>33.21</td> <td>50237200 </td> <td>2012-05-24</td>\n",
       "        </tr>\n",
       "        <tr>\n",
       "            <td>FB    </td> <td>32.9 </td> <td>31.91</td> <td>31.91    </td> <td>31.11</td> <td>32.95</td> <td>37149800 </td> <td>2012-05-25</td>\n",
       "        </tr>\n",
       "        <tr>\n",
       "            <td>FB    </td> <td>31.48</td> <td>28.84</td> <td>28.84    </td> <td>28.65</td> <td>31.69</td> <td>78063400 </td> <td>2012-05-29</td>\n",
       "        </tr>\n",
       "        <tr>\n",
       "            <td>FB    </td> <td>28.7 </td> <td>28.19</td> <td>28.19    </td> <td>27.86</td> <td>29.55</td> <td>57267900 </td> <td>2012-05-30</td>\n",
       "        </tr>\n",
       "        <tr>\n",
       "            <td>FB    </td> <td>28.55</td> <td>29.6 </td> <td>29.6     </td> <td>26.83</td> <td>29.67</td> <td>111639200</td> <td>2012-05-31</td>\n",
       "        </tr>\n",
       "        <tr>\n",
       "            <td>FB    </td> <td>28.89</td> <td>27.72</td> <td>27.72    </td> <td>27.39</td> <td>29.15</td> <td>41855500 </td> <td>2012-06-01</td>\n",
       "        </tr>\n",
       "    </tbody>\n",
       "</table>\n",
       "<p>... (1568 rows omitted)</p>"
      ],
      "text/plain": [
       "ticker | open  | close | adj_close | low   | high  | volume    | date\n",
       "FB     | 42.05 | 38.23 | 38.23     | 38    | 45    | 573576400 | 2012-05-18\n",
       "FB     | 36.53 | 34.03 | 34.03     | 33    | 36.66 | 168192700 | 2012-05-21\n",
       "FB     | 32.61 | 31    | 31        | 30.94 | 33.59 | 101786600 | 2012-05-22\n",
       "FB     | 31.37 | 32    | 32        | 31.36 | 32.5  | 73600000  | 2012-05-23\n",
       "FB     | 32.95 | 33.03 | 33.03     | 31.77 | 33.21 | 50237200  | 2012-05-24\n",
       "FB     | 32.9  | 31.91 | 31.91     | 31.11 | 32.95 | 37149800  | 2012-05-25\n",
       "FB     | 31.48 | 28.84 | 28.84     | 28.65 | 31.69 | 78063400  | 2012-05-29\n",
       "FB     | 28.7  | 28.19 | 28.19     | 27.86 | 29.55 | 57267900  | 2012-05-30\n",
       "FB     | 28.55 | 29.6  | 29.6      | 26.83 | 29.67 | 111639200 | 2012-05-31\n",
       "FB     | 28.89 | 27.72 | 27.72     | 27.39 | 29.15 | 41855500  | 2012-06-01\n",
       "... (1568 rows omitted)"
      ]
     },
     "execution_count": 17,
     "metadata": {},
     "output_type": "execute_result"
    }
   ],
   "source": [
    "facebook"
   ]
  },
  {
   "cell_type": "code",
   "execution_count": 18,
   "metadata": {},
   "outputs": [
    {
     "data": {
      "text/html": [
       "<table border=\"1\" class=\"dataframe\">\n",
       "    <thead>\n",
       "        <tr>\n",
       "            <th>ticker</th> <th>open</th> <th>close</th> <th>adj_close</th> <th>low</th> <th>high</th> <th>volume</th> <th>date</th>\n",
       "        </tr>\n",
       "    </thead>\n",
       "    <tbody>\n",
       "        <tr>\n",
       "            <td>AAPL  </td> <td>0.513393</td> <td>0.513393</td> <td>0.0231864</td> <td>0.513393</td> <td>0.515625</td> <td>117258400</td> <td>1980-12-12</td>\n",
       "        </tr>\n",
       "        <tr>\n",
       "            <td>AAPL  </td> <td>0.488839</td> <td>0.486607</td> <td>0.0219766</td> <td>0.486607</td> <td>0.488839</td> <td>43971200 </td> <td>1980-12-15</td>\n",
       "        </tr>\n",
       "        <tr>\n",
       "            <td>AAPL  </td> <td>0.453125</td> <td>0.450893</td> <td>0.0203637</td> <td>0.450893</td> <td>0.453125</td> <td>26432000 </td> <td>1980-12-16</td>\n",
       "        </tr>\n",
       "        <tr>\n",
       "            <td>AAPL  </td> <td>0.462054</td> <td>0.462054</td> <td>0.0208677</td> <td>0.462054</td> <td>0.464286</td> <td>21610400 </td> <td>1980-12-17</td>\n",
       "        </tr>\n",
       "        <tr>\n",
       "            <td>AAPL  </td> <td>0.475446</td> <td>0.475446</td> <td>0.0214726</td> <td>0.475446</td> <td>0.477679</td> <td>18362400 </td> <td>1980-12-18</td>\n",
       "        </tr>\n",
       "        <tr>\n",
       "            <td>AAPL  </td> <td>0.504464</td> <td>0.504464</td> <td>0.0227831</td> <td>0.504464</td> <td>0.506696</td> <td>12157600 </td> <td>1980-12-19</td>\n",
       "        </tr>\n",
       "        <tr>\n",
       "            <td>AAPL  </td> <td>0.529018</td> <td>0.529018</td> <td>0.023892 </td> <td>0.529018</td> <td>0.53125 </td> <td>9340800  </td> <td>1980-12-22</td>\n",
       "        </tr>\n",
       "        <tr>\n",
       "            <td>AAPL  </td> <td>0.551339</td> <td>0.551339</td> <td>0.0249001</td> <td>0.551339</td> <td>0.553571</td> <td>11737600 </td> <td>1980-12-23</td>\n",
       "        </tr>\n",
       "        <tr>\n",
       "            <td>AAPL  </td> <td>0.580357</td> <td>0.580357</td> <td>0.0262107</td> <td>0.580357</td> <td>0.582589</td> <td>12000800 </td> <td>1980-12-24</td>\n",
       "        </tr>\n",
       "        <tr>\n",
       "            <td>AAPL  </td> <td>0.633929</td> <td>0.633929</td> <td>0.0286301</td> <td>0.633929</td> <td>0.636161</td> <td>13893600 </td> <td>1980-12-26</td>\n",
       "        </tr>\n",
       "    </tbody>\n",
       "</table>\n",
       "<p>... (9497 rows omitted)</p>"
      ],
      "text/plain": [
       "ticker | open     | close    | adj_close | low      | high     | volume    | date\n",
       "AAPL   | 0.513393 | 0.513393 | 0.0231864 | 0.513393 | 0.515625 | 117258400 | 1980-12-12\n",
       "AAPL   | 0.488839 | 0.486607 | 0.0219766 | 0.486607 | 0.488839 | 43971200  | 1980-12-15\n",
       "AAPL   | 0.453125 | 0.450893 | 0.0203637 | 0.450893 | 0.453125 | 26432000  | 1980-12-16\n",
       "AAPL   | 0.462054 | 0.462054 | 0.0208677 | 0.462054 | 0.464286 | 21610400  | 1980-12-17\n",
       "AAPL   | 0.475446 | 0.475446 | 0.0214726 | 0.475446 | 0.477679 | 18362400  | 1980-12-18\n",
       "AAPL   | 0.504464 | 0.504464 | 0.0227831 | 0.504464 | 0.506696 | 12157600  | 1980-12-19\n",
       "AAPL   | 0.529018 | 0.529018 | 0.023892  | 0.529018 | 0.53125  | 9340800   | 1980-12-22\n",
       "AAPL   | 0.551339 | 0.551339 | 0.0249001 | 0.551339 | 0.553571 | 11737600  | 1980-12-23\n",
       "AAPL   | 0.580357 | 0.580357 | 0.0262107 | 0.580357 | 0.582589 | 12000800  | 1980-12-24\n",
       "AAPL   | 0.633929 | 0.633929 | 0.0286301 | 0.633929 | 0.636161 | 13893600  | 1980-12-26\n",
       "... (9497 rows omitted)"
      ]
     },
     "execution_count": 18,
     "metadata": {},
     "output_type": "execute_result"
    }
   ],
   "source": [
    "apple"
   ]
  },
  {
   "cell_type": "code",
   "execution_count": 19,
   "metadata": {},
   "outputs": [
    {
     "data": {
      "text/html": [
       "<table border=\"1\" class=\"dataframe\">\n",
       "    <thead>\n",
       "        <tr>\n",
       "            <th>ticker</th> <th>open</th> <th>close</th> <th>adj_close</th> <th>low</th> <th>high</th> <th>volume</th> <th>date</th>\n",
       "        </tr>\n",
       "    </thead>\n",
       "    <tbody>\n",
       "        <tr>\n",
       "            <td>AMZN  </td> <td>2.4375 </td> <td>1.95833</td> <td>1.95833  </td> <td>1.92708</td> <td>2.5    </td> <td>72156000</td> <td>1997-05-15</td>\n",
       "        </tr>\n",
       "        <tr>\n",
       "            <td>AMZN  </td> <td>1.96875</td> <td>1.72917</td> <td>1.72917  </td> <td>1.70833</td> <td>1.97917</td> <td>14700000</td> <td>1997-05-16</td>\n",
       "        </tr>\n",
       "        <tr>\n",
       "            <td>AMZN  </td> <td>1.76042</td> <td>1.70833</td> <td>1.70833  </td> <td>1.625  </td> <td>1.77083</td> <td>6106800 </td> <td>1997-05-19</td>\n",
       "        </tr>\n",
       "        <tr>\n",
       "            <td>AMZN  </td> <td>1.72917</td> <td>1.63542</td> <td>1.63542  </td> <td>1.63542</td> <td>1.75   </td> <td>5467200 </td> <td>1997-05-20</td>\n",
       "        </tr>\n",
       "        <tr>\n",
       "            <td>AMZN  </td> <td>1.63542</td> <td>1.42708</td> <td>1.42708  </td> <td>1.375  </td> <td>1.64583</td> <td>18853200</td> <td>1997-05-21</td>\n",
       "        </tr>\n",
       "        <tr>\n",
       "            <td>AMZN  </td> <td>1.4375 </td> <td>1.39583</td> <td>1.39583  </td> <td>1.3125 </td> <td>1.44792</td> <td>11776800</td> <td>1997-05-22</td>\n",
       "        </tr>\n",
       "        <tr>\n",
       "            <td>AMZN  </td> <td>1.40625</td> <td>1.5    </td> <td>1.5      </td> <td>1.33333</td> <td>1.52083</td> <td>15937200</td> <td>1997-05-23</td>\n",
       "        </tr>\n",
       "        <tr>\n",
       "            <td>AMZN  </td> <td>1.51042</td> <td>1.58333</td> <td>1.58333  </td> <td>1.45833</td> <td>1.64583</td> <td>8697600 </td> <td>1997-05-27</td>\n",
       "        </tr>\n",
       "        <tr>\n",
       "            <td>AMZN  </td> <td>1.625  </td> <td>1.53125</td> <td>1.53125  </td> <td>1.53125</td> <td>1.63542</td> <td>4574400 </td> <td>1997-05-28</td>\n",
       "        </tr>\n",
       "        <tr>\n",
       "            <td>AMZN  </td> <td>1.54167</td> <td>1.50521</td> <td>1.50521  </td> <td>1.47917</td> <td>1.54167</td> <td>3472800 </td> <td>1997-05-29</td>\n",
       "        </tr>\n",
       "    </tbody>\n",
       "</table>\n",
       "<p>... (5346 rows omitted)</p>"
      ],
      "text/plain": [
       "ticker | open    | close   | adj_close | low     | high    | volume   | date\n",
       "AMZN   | 2.4375  | 1.95833 | 1.95833   | 1.92708 | 2.5     | 72156000 | 1997-05-15\n",
       "AMZN   | 1.96875 | 1.72917 | 1.72917   | 1.70833 | 1.97917 | 14700000 | 1997-05-16\n",
       "AMZN   | 1.76042 | 1.70833 | 1.70833   | 1.625   | 1.77083 | 6106800  | 1997-05-19\n",
       "AMZN   | 1.72917 | 1.63542 | 1.63542   | 1.63542 | 1.75    | 5467200  | 1997-05-20\n",
       "AMZN   | 1.63542 | 1.42708 | 1.42708   | 1.375   | 1.64583 | 18853200 | 1997-05-21\n",
       "AMZN   | 1.4375  | 1.39583 | 1.39583   | 1.3125  | 1.44792 | 11776800 | 1997-05-22\n",
       "AMZN   | 1.40625 | 1.5     | 1.5       | 1.33333 | 1.52083 | 15937200 | 1997-05-23\n",
       "AMZN   | 1.51042 | 1.58333 | 1.58333   | 1.45833 | 1.64583 | 8697600  | 1997-05-27\n",
       "AMZN   | 1.625   | 1.53125 | 1.53125   | 1.53125 | 1.63542 | 4574400  | 1997-05-28\n",
       "AMZN   | 1.54167 | 1.50521 | 1.50521   | 1.47917 | 1.54167 | 3472800  | 1997-05-29\n",
       "... (5346 rows omitted)"
      ]
     },
     "execution_count": 19,
     "metadata": {},
     "output_type": "execute_result"
    }
   ],
   "source": [
    "amazon"
   ]
  },
  {
   "cell_type": "code",
   "execution_count": 20,
   "metadata": {},
   "outputs": [
    {
     "data": {
      "text/html": [
       "<table border=\"1\" class=\"dataframe\">\n",
       "    <thead>\n",
       "        <tr>\n",
       "            <th>ticker</th> <th>open</th> <th>close</th> <th>adj_close</th> <th>low</th> <th>high</th> <th>volume</th> <th>date</th>\n",
       "        </tr>\n",
       "    </thead>\n",
       "    <tbody>\n",
       "        <tr>\n",
       "            <td>NFLX  </td> <td>1.15643</td> <td>1.19643</td> <td>1.19643  </td> <td>1.14571</td> <td>1.24286</td> <td>104790000</td> <td>2002-05-23</td>\n",
       "        </tr>\n",
       "        <tr>\n",
       "            <td>NFLX  </td> <td>1.21429</td> <td>1.21   </td> <td>1.21     </td> <td>1.19714</td> <td>1.225  </td> <td>11104800 </td> <td>2002-05-24</td>\n",
       "        </tr>\n",
       "        <tr>\n",
       "            <td>NFLX  </td> <td>1.21357</td> <td>1.15714</td> <td>1.15714  </td> <td>1.15714</td> <td>1.23214</td> <td>6609400  </td> <td>2002-05-28</td>\n",
       "        </tr>\n",
       "        <tr>\n",
       "            <td>NFLX  </td> <td>1.16429</td> <td>1.10357</td> <td>1.10357  </td> <td>1.08571</td> <td>1.16429</td> <td>6757800  </td> <td>2002-05-29</td>\n",
       "        </tr>\n",
       "        <tr>\n",
       "            <td>NFLX  </td> <td>1.10786</td> <td>1.07143</td> <td>1.07143  </td> <td>1.07143</td> <td>1.10786</td> <td>10154200 </td> <td>2002-05-30</td>\n",
       "        </tr>\n",
       "        <tr>\n",
       "            <td>NFLX  </td> <td>1.07857</td> <td>1.07643</td> <td>1.07643  </td> <td>1.07143</td> <td>1.07857</td> <td>8464400  </td> <td>2002-05-31</td>\n",
       "        </tr>\n",
       "        <tr>\n",
       "            <td>NFLX  </td> <td>1.08   </td> <td>1.12857</td> <td>1.12857  </td> <td>1.07643</td> <td>1.14929</td> <td>3151400  </td> <td>2002-06-03</td>\n",
       "        </tr>\n",
       "        <tr>\n",
       "            <td>NFLX  </td> <td>1.13571</td> <td>1.11786</td> <td>1.11786  </td> <td>1.11071</td> <td>1.14   </td> <td>3105200  </td> <td>2002-06-04</td>\n",
       "        </tr>\n",
       "        <tr>\n",
       "            <td>NFLX  </td> <td>1.11071</td> <td>1.14714</td> <td>1.14714  </td> <td>1.10714</td> <td>1.15929</td> <td>1531600  </td> <td>2002-06-05</td>\n",
       "        </tr>\n",
       "        <tr>\n",
       "            <td>NFLX  </td> <td>1.15   </td> <td>1.18214</td> <td>1.18214  </td> <td>1.14857</td> <td>1.23214</td> <td>2305800  </td> <td>2002-06-06</td>\n",
       "        </tr>\n",
       "    </tbody>\n",
       "</table>\n",
       "<p>... (4084 rows omitted)</p>"
      ],
      "text/plain": [
       "ticker | open    | close   | adj_close | low     | high    | volume    | date\n",
       "NFLX   | 1.15643 | 1.19643 | 1.19643   | 1.14571 | 1.24286 | 104790000 | 2002-05-23\n",
       "NFLX   | 1.21429 | 1.21    | 1.21      | 1.19714 | 1.225   | 11104800  | 2002-05-24\n",
       "NFLX   | 1.21357 | 1.15714 | 1.15714   | 1.15714 | 1.23214 | 6609400   | 2002-05-28\n",
       "NFLX   | 1.16429 | 1.10357 | 1.10357   | 1.08571 | 1.16429 | 6757800   | 2002-05-29\n",
       "NFLX   | 1.10786 | 1.07143 | 1.07143   | 1.07143 | 1.10786 | 10154200  | 2002-05-30\n",
       "NFLX   | 1.07857 | 1.07643 | 1.07643   | 1.07143 | 1.07857 | 8464400   | 2002-05-31\n",
       "NFLX   | 1.08    | 1.12857 | 1.12857   | 1.07643 | 1.14929 | 3151400   | 2002-06-03\n",
       "NFLX   | 1.13571 | 1.11786 | 1.11786   | 1.11071 | 1.14    | 3105200   | 2002-06-04\n",
       "NFLX   | 1.11071 | 1.14714 | 1.14714   | 1.10714 | 1.15929 | 1531600   | 2002-06-05\n",
       "NFLX   | 1.15    | 1.18214 | 1.18214   | 1.14857 | 1.23214 | 2305800   | 2002-06-06\n",
       "... (4084 rows omitted)"
      ]
     },
     "execution_count": 20,
     "metadata": {},
     "output_type": "execute_result"
    }
   ],
   "source": [
    "netflix"
   ]
  },
  {
   "cell_type": "code",
   "execution_count": 21,
   "metadata": {},
   "outputs": [
    {
     "data": {
      "text/html": [
       "<table border=\"1\" class=\"dataframe\">\n",
       "    <thead>\n",
       "        <tr>\n",
       "            <th>ticker</th> <th>open</th> <th>close</th> <th>adj_close</th> <th>low</th> <th>high</th> <th>volume</th> <th>date</th>\n",
       "        </tr>\n",
       "    </thead>\n",
       "    <tbody>\n",
       "        <tr>\n",
       "            <td>GOOGL </td> <td>50.05  </td> <td>50.2202</td> <td>50.2202  </td> <td>48.028 </td> <td>52.0821</td> <td>44659000</td> <td>2004-08-19</td>\n",
       "        </tr>\n",
       "        <tr>\n",
       "            <td>GOOGL </td> <td>50.5556</td> <td>54.2092</td> <td>54.2092  </td> <td>50.3003</td> <td>54.5946</td> <td>22834300</td> <td>2004-08-20</td>\n",
       "        </tr>\n",
       "        <tr>\n",
       "            <td>GOOGL </td> <td>55.4304</td> <td>54.7548</td> <td>54.7548  </td> <td>54.5796</td> <td>56.7968</td> <td>18256100</td> <td>2004-08-23</td>\n",
       "        </tr>\n",
       "        <tr>\n",
       "            <td>GOOGL </td> <td>55.6757</td> <td>52.4875</td> <td>52.4875  </td> <td>51.8368</td> <td>55.8559</td> <td>15247300</td> <td>2004-08-24</td>\n",
       "        </tr>\n",
       "        <tr>\n",
       "            <td>GOOGL </td> <td>52.5325</td> <td>53.0531</td> <td>53.0531  </td> <td>51.992 </td> <td>54.0541</td> <td>9188600 </td> <td>2004-08-25</td>\n",
       "        </tr>\n",
       "        <tr>\n",
       "            <td>GOOGL </td> <td>52.5275</td> <td>54.009 </td> <td>54.009   </td> <td>52.3824</td> <td>54.029 </td> <td>7094800 </td> <td>2004-08-26</td>\n",
       "        </tr>\n",
       "        <tr>\n",
       "            <td>GOOGL </td> <td>54.1041</td> <td>53.1281</td> <td>53.1281  </td> <td>52.8979</td> <td>54.3644</td> <td>6211700 </td> <td>2004-08-27</td>\n",
       "        </tr>\n",
       "        <tr>\n",
       "            <td>GOOGL </td> <td>52.6927</td> <td>51.0561</td> <td>51.0561  </td> <td>51.0561</td> <td>52.7978</td> <td>5196700 </td> <td>2004-08-30</td>\n",
       "        </tr>\n",
       "        <tr>\n",
       "            <td>GOOGL </td> <td>51.2012</td> <td>51.2362</td> <td>51.2362  </td> <td>51.1311</td> <td>51.9069</td> <td>4917800 </td> <td>2004-08-31</td>\n",
       "        </tr>\n",
       "        <tr>\n",
       "            <td>GOOGL </td> <td>51.4014</td> <td>50.1752</td> <td>50.1752  </td> <td>49.8849</td> <td>51.5365</td> <td>9138200 </td> <td>2004-09-01</td>\n",
       "        </tr>\n",
       "    </tbody>\n",
       "</table>\n",
       "<p>... (3520 rows omitted)</p>"
      ],
      "text/plain": [
       "ticker | open    | close   | adj_close | low     | high    | volume   | date\n",
       "GOOGL  | 50.05   | 50.2202 | 50.2202   | 48.028  | 52.0821 | 44659000 | 2004-08-19\n",
       "GOOGL  | 50.5556 | 54.2092 | 54.2092   | 50.3003 | 54.5946 | 22834300 | 2004-08-20\n",
       "GOOGL  | 55.4304 | 54.7548 | 54.7548   | 54.5796 | 56.7968 | 18256100 | 2004-08-23\n",
       "GOOGL  | 55.6757 | 52.4875 | 52.4875   | 51.8368 | 55.8559 | 15247300 | 2004-08-24\n",
       "GOOGL  | 52.5325 | 53.0531 | 53.0531   | 51.992  | 54.0541 | 9188600  | 2004-08-25\n",
       "GOOGL  | 52.5275 | 54.009  | 54.009    | 52.3824 | 54.029  | 7094800  | 2004-08-26\n",
       "GOOGL  | 54.1041 | 53.1281 | 53.1281   | 52.8979 | 54.3644 | 6211700  | 2004-08-27\n",
       "GOOGL  | 52.6927 | 51.0561 | 51.0561   | 51.0561 | 52.7978 | 5196700  | 2004-08-30\n",
       "GOOGL  | 51.2012 | 51.2362 | 51.2362   | 51.1311 | 51.9069 | 4917800  | 2004-08-31\n",
       "GOOGL  | 51.4014 | 50.1752 | 50.1752   | 49.8849 | 51.5365 | 9138200  | 2004-09-01\n",
       "... (3520 rows omitted)"
      ]
     },
     "execution_count": 21,
     "metadata": {},
     "output_type": "execute_result"
    }
   ],
   "source": [
    "google"
   ]
  },
  {
   "cell_type": "code",
   "execution_count": 22,
   "metadata": {},
   "outputs": [
    {
     "data": {
      "text/html": [
       "<table border=\"1\" class=\"dataframe\">\n",
       "    <thead>\n",
       "        <tr>\n",
       "            <th>ticker</th> <th>open</th> <th>close</th> <th>adj_close</th> <th>low</th> <th>high</th> <th>volume</th> <th>date</th>\n",
       "        </tr>\n",
       "    </thead>\n",
       "    <tbody>\n",
       "        <tr>\n",
       "            <td>AAPL  </td> <td>216.6  </td> <td>216.16 </td> <td>216.16   </td> <td>215.11 </td> <td>216.9  </td> <td>18469900</td> <td>2018-08-24</td>\n",
       "        </tr>\n",
       "        <tr>\n",
       "            <td>AMZN  </td> <td>1910.51</td> <td>1905.39</td> <td>1905.39  </td> <td>1902.54</td> <td>1916.01</td> <td>2792600 </td> <td>2018-08-24</td>\n",
       "        </tr>\n",
       "        <tr>\n",
       "            <td>NFLX  </td> <td>346    </td> <td>358.82 </td> <td>358.82   </td> <td>344.54 </td> <td>359.15 </td> <td>14711000</td> <td>2018-08-24</td>\n",
       "        </tr>\n",
       "        <tr>\n",
       "            <td>GOOGL </td> <td>1226   </td> <td>1236.75</td> <td>1236.75  </td> <td>1221.42</td> <td>1237.4 </td> <td>1222000 </td> <td>2018-08-24</td>\n",
       "        </tr>\n",
       "        <tr>\n",
       "            <td>FB    </td> <td>173.7  </td> <td>174.65 </td> <td>174.65   </td> <td>172.92 </td> <td>174.82 </td> <td>14617600</td> <td>2018-08-24</td>\n",
       "        </tr>\n",
       "        <tr>\n",
       "            <td>AAPL  </td> <td>214.65 </td> <td>215.49 </td> <td>215.49   </td> <td>214.6  </td> <td>217.05 </td> <td>18883200</td> <td>2018-08-23</td>\n",
       "        </tr>\n",
       "        <tr>\n",
       "            <td>AMZN  </td> <td>1907.17</td> <td>1902.9 </td> <td>1902.9   </td> <td>1900.76</td> <td>1919.5 </td> <td>3563000 </td> <td>2018-08-23</td>\n",
       "        </tr>\n",
       "        <tr>\n",
       "            <td>NFLX  </td> <td>348.11 </td> <td>339.17 </td> <td>339.17   </td> <td>337.65 </td> <td>350.08 </td> <td>11336400</td> <td>2018-08-23</td>\n",
       "        </tr>\n",
       "        <tr>\n",
       "            <td>GOOGL </td> <td>1219.88</td> <td>1221.16</td> <td>1221.16  </td> <td>1219.35</td> <td>1235.17</td> <td>1233300 </td> <td>2018-08-23</td>\n",
       "        </tr>\n",
       "        <tr>\n",
       "            <td>FB    </td> <td>173.09 </td> <td>172.9  </td> <td>172.9    </td> <td>172.83 </td> <td>175.55 </td> <td>18053600</td> <td>2018-08-23</td>\n",
       "        </tr>\n",
       "    </tbody>\n",
       "</table>\n",
       "<p>... (24055 rows omitted)</p>"
      ],
      "text/plain": [
       "ticker | open    | close   | adj_close | low     | high    | volume   | date\n",
       "AAPL   | 216.6   | 216.16  | 216.16    | 215.11  | 216.9   | 18469900 | 2018-08-24\n",
       "AMZN   | 1910.51 | 1905.39 | 1905.39   | 1902.54 | 1916.01 | 2792600  | 2018-08-24\n",
       "NFLX   | 346     | 358.82  | 358.82    | 344.54  | 359.15  | 14711000 | 2018-08-24\n",
       "GOOGL  | 1226    | 1236.75 | 1236.75   | 1221.42 | 1237.4  | 1222000  | 2018-08-24\n",
       "FB     | 173.7   | 174.65  | 174.65    | 172.92  | 174.82  | 14617600 | 2018-08-24\n",
       "AAPL   | 214.65  | 215.49  | 215.49    | 214.6   | 217.05  | 18883200 | 2018-08-23\n",
       "AMZN   | 1907.17 | 1902.9  | 1902.9    | 1900.76 | 1919.5  | 3563000  | 2018-08-23\n",
       "NFLX   | 348.11  | 339.17  | 339.17    | 337.65  | 350.08  | 11336400 | 2018-08-23\n",
       "GOOGL  | 1219.88 | 1221.16 | 1221.16   | 1219.35 | 1235.17 | 1233300  | 2018-08-23\n",
       "FB     | 173.09  | 172.9   | 172.9     | 172.83  | 175.55  | 18053600 | 2018-08-23\n",
       "... (24055 rows omitted)"
      ]
     },
     "execution_count": 22,
     "metadata": {},
     "output_type": "execute_result"
    }
   ],
   "source": [
    "faang.sort('date', descending = True)"
   ]
  },
  {
   "cell_type": "markdown",
   "metadata": {},
   "source": [
    "### To create a CSV file from a table and store in current directory"
   ]
  },
  {
   "cell_type": "code",
   "execution_count": 23,
   "metadata": {},
   "outputs": [],
   "source": [
    "# faang.to_csv('faang.csv')"
   ]
  }
 ],
 "metadata": {
  "kernelspec": {
   "display_name": "Python 3",
   "language": "python",
   "name": "python3"
  },
  "language_info": {
   "codemirror_mode": {
    "name": "ipython",
    "version": 3
   },
   "file_extension": ".py",
   "mimetype": "text/x-python",
   "name": "python",
   "nbconvert_exporter": "python",
   "pygments_lexer": "ipython3",
   "version": "3.7.6"
  }
 },
 "nbformat": 4,
 "nbformat_minor": 4
}
