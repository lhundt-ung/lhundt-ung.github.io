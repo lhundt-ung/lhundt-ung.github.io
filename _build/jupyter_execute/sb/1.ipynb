{
 "cells": [
  {
   "cell_type": "markdown",
   "metadata": {},
   "source": [
    "# 1.1 Narcissism"
   ]
  },
  {
   "cell_type": "code",
   "execution_count": 1,
   "metadata": {},
   "outputs": [],
   "source": [
    "from datascience import *\n",
    "import numpy as np\n",
    "\n",
    "%matplotlib inline\n",
    "import matplotlib.pyplot as plots\n",
    "plots.style.use('fivethirtyeight')"
   ]
  },
  {
   "cell_type": "markdown",
   "metadata": {},
   "source": [
    "I keep some data frames in CSV format accessible from my website. One of them is called `personality.csv` and has, as you might imagine, personality variables. In this case, we will compare the narcissism levels based upon the grouping variable of biological sex."
   ]
  },
  {
   "cell_type": "code",
   "execution_count": 2,
   "metadata": {},
   "outputs": [
    {
     "data": {
      "text/plain": [
       "165"
      ]
     },
     "execution_count": 2,
     "metadata": {},
     "output_type": "execute_result"
    }
   ],
   "source": [
    "pers = Table.read_table('http://faculty.ung.edu/rsinn/personality.csv')\n",
    "pers.num_rows"
   ]
  },
  {
   "cell_type": "code",
   "execution_count": 3,
   "metadata": {},
   "outputs": [
    {
     "data": {
      "text/plain": [
       "('Age',\n",
       " 'Yr',\n",
       " 'Sex',\n",
       " 'G21',\n",
       " 'Corps',\n",
       " 'Res',\n",
       " 'Greek',\n",
       " 'VarsAth',\n",
       " 'Honor',\n",
       " 'GPA',\n",
       " 'Sleep',\n",
       " 'Caff',\n",
       " 'SitClass',\n",
       " 'AccDate',\n",
       " 'Friends',\n",
       " 'TxRel',\n",
       " 'Stress1',\n",
       " 'Stress2',\n",
       " 'CHS',\n",
       " 'Thrill',\n",
       " 'Eat',\n",
       " 'TypeA',\n",
       " 'Anx',\n",
       " 'Opt',\n",
       " 'SE',\n",
       " 'Neuro',\n",
       " 'Perf',\n",
       " 'OCD',\n",
       " 'Play',\n",
       " 'Extro',\n",
       " 'Narc',\n",
       " 'HSAF',\n",
       " 'HSSE',\n",
       " 'HSAG',\n",
       " 'HSSD',\n",
       " 'PHS')"
      ]
     },
     "execution_count": 3,
     "metadata": {},
     "output_type": "execute_result"
    }
   ],
   "source": [
    "pers.labels"
   ]
  },
  {
   "cell_type": "code",
   "execution_count": 4,
   "metadata": {},
   "outputs": [
    {
     "data": {
      "text/html": [
       "<table border=\"1\" class=\"dataframe\">\n",
       "    <thead>\n",
       "        <tr>\n",
       "            <th>Age</th> <th>Yr</th> <th>Sex</th> <th>G21</th> <th>Corps</th> <th>Res</th> <th>Greek</th> <th>VarsAth</th> <th>Honor</th> <th>GPA</th> <th>Sleep</th> <th>Caff</th> <th>SitClass</th> <th>AccDate</th> <th>Friends</th> <th>TxRel</th> <th>Stress1</th> <th>Stress2</th> <th>CHS</th> <th>Thrill</th> <th>Eat</th> <th>TypeA</th> <th>Anx</th> <th>Opt</th> <th>SE</th> <th>Neuro</th> <th>Perf</th> <th>OCD</th> <th>Play</th> <th>Extro</th> <th>Narc</th> <th>HSAF</th> <th>HSSE</th> <th>HSAG</th> <th>HSSD</th> <th>PHS</th>\n",
       "        </tr>\n",
       "    </thead>\n",
       "    <tbody>\n",
       "        <tr>\n",
       "            <td>22  </td> <td>4   </td> <td>M   </td> <td>Y   </td> <td>N    </td> <td>2   </td> <td>N    </td> <td>Y      </td> <td>N    </td> <td>3.01</td> <td>5    </td> <td>1   </td> <td>M       </td> <td>N      </td> <td>E      </td> <td>22   </td> <td>17     </td> <td>18     </td> <td>33  </td> <td>23    </td> <td>13  </td> <td>30   </td> <td>25  </td> <td>26  </td> <td>62  </td> <td>34   </td> <td>104 </td> <td>11  </td> <td>143 </td> <td>10   </td> <td>9   </td> <td>51  </td> <td>54  </td> <td>46  </td> <td>21  </td> <td>AG  </td>\n",
       "        </tr>\n",
       "        <tr>\n",
       "            <td>19  </td> <td>2   </td> <td>F   </td> <td>N   </td> <td>N    </td> <td>1   </td> <td>N    </td> <td>N      </td> <td>N    </td> <td>3.75</td> <td>7.5  </td> <td>0   </td> <td>M       </td> <td>N      </td> <td>E      </td> <td>28   </td> <td>9      </td> <td>7      </td> <td>20  </td> <td>15    </td> <td>21  </td> <td>28   </td> <td>28  </td> <td>21  </td> <td>65  </td> <td>41   </td> <td>99  </td> <td>11  </td> <td>141 </td> <td>14   </td> <td>3   </td> <td>44  </td> <td>35  </td> <td>19  </td> <td>17  </td> <td>AF  </td>\n",
       "        </tr>\n",
       "        <tr>\n",
       "            <td>23  </td> <td>1   </td> <td>F   </td> <td>Y   </td> <td>N    </td> <td>1   </td> <td>N    </td> <td>N      </td> <td>N    </td> <td>3.2 </td> <td>8.5  </td> <td>2   </td> <td>F       </td> <td>Y      </td> <td>S      </td> <td>24   </td> <td>11     </td> <td>13     </td> <td>27  </td> <td>14    </td> <td>39  </td> <td>29   </td> <td>27  </td> <td>19  </td> <td>65  </td> <td>28   </td> <td>86  </td> <td>6   </td> <td>98  </td> <td>7    </td> <td>2   </td> <td>31  </td> <td>36  </td> <td>21  </td> <td>19  </td> <td>SE  </td>\n",
       "        </tr>\n",
       "        <tr>\n",
       "            <td>19  </td> <td>3   </td> <td>F   </td> <td>N   </td> <td>N    </td> <td>2   </td> <td>Y    </td> <td>N      </td> <td>N    </td> <td>4   </td> <td>6    </td> <td>2   </td> <td>F       </td> <td>N      </td> <td>S      </td> <td>27   </td> <td>15     </td> <td>14     </td> <td>26  </td> <td>13    </td> <td>45  </td> <td>28   </td> <td>33  </td> <td>24  </td> <td>63  </td> <td>30   </td> <td>118 </td> <td>3   </td> <td>121 </td> <td>8    </td> <td>4   </td> <td>34  </td> <td>36  </td> <td>30  </td> <td>33  </td> <td>SD  </td>\n",
       "        </tr>\n",
       "        <tr>\n",
       "            <td>22  </td> <td>4   </td> <td>M   </td> <td>Y   </td> <td>Y    </td> <td>3   </td> <td>Y    </td> <td>N      </td> <td>Y    </td> <td>3.42</td> <td>6    </td> <td>3   </td> <td>B       </td> <td>Y      </td> <td>S      </td> <td>20   </td> <td>9      </td> <td>9      </td> <td>32  </td> <td>16    </td> <td>32  </td> <td>30   </td> <td>29  </td> <td>18  </td> <td>41  </td> <td>47   </td> <td>103 </td> <td>9   </td> <td>124 </td> <td>6    </td> <td>4   </td> <td>50  </td> <td>42  </td> <td>37  </td> <td>34  </td> <td>AG  </td>\n",
       "        </tr>\n",
       "        <tr>\n",
       "            <td>18  </td> <td>1   </td> <td>F   </td> <td>N   </td> <td>N    </td> <td>3   </td> <td>N    </td> <td>N      </td> <td>N    </td> <td>3.7 </td> <td>2.5  </td> <td>1   </td> <td>F       </td> <td>Y      </td> <td>E      </td> <td>21   </td> <td>16     </td> <td>15     </td> <td>25  </td> <td>18    </td> <td>32  </td> <td>30   </td> <td>46  </td> <td>19  </td> <td>48  </td> <td>53   </td> <td>113 </td> <td>16  </td> <td>131 </td> <td>6    </td> <td>2   </td> <td>33  </td> <td>32  </td> <td>29  </td> <td>33  </td> <td>SD  </td>\n",
       "        </tr>\n",
       "        <tr>\n",
       "            <td>19  </td> <td>2   </td> <td>M   </td> <td>N   </td> <td>N    </td> <td>3   </td> <td>N    </td> <td>N      </td> <td>N    </td> <td>2.8 </td> <td>7    </td> <td>0   </td> <td>B       </td> <td>N      </td> <td>E      </td> <td>23   </td> <td>13     </td> <td>15     </td> <td>25  </td> <td>15    </td> <td>19  </td> <td>nan  </td> <td>nan </td> <td>nan </td> <td>nan </td> <td>nan  </td> <td>105 </td> <td>16  </td> <td>121 </td> <td>5    </td> <td>5   </td> <td>nan </td> <td>nan </td> <td>nan </td> <td>nan </td> <td>nan </td>\n",
       "        </tr>\n",
       "        <tr>\n",
       "            <td>20  </td> <td>3   </td> <td>M   </td> <td>N   </td> <td>Y    </td> <td>1   </td> <td>Y    </td> <td>N      </td> <td>N    </td> <td>3.34</td> <td>6.5  </td> <td>3   </td> <td>B       </td> <td>N      </td> <td>E      </td> <td>29   </td> <td>12     </td> <td>10     </td> <td>21  </td> <td>18    </td> <td>32  </td> <td>32   </td> <td>30  </td> <td>23  </td> <td>62  </td> <td>23   </td> <td>95  </td> <td>4   </td> <td>104 </td> <td>11   </td> <td>6   </td> <td>35  </td> <td>32  </td> <td>30  </td> <td>32  </td> <td>SD  </td>\n",
       "        </tr>\n",
       "        <tr>\n",
       "            <td>21  </td> <td>3   </td> <td>F   </td> <td>Y   </td> <td>N    </td> <td>2   </td> <td>Y    </td> <td>N      </td> <td>N    </td> <td>3.47</td> <td>5.5  </td> <td>2   </td> <td>F       </td> <td>Y      </td> <td>E      </td> <td>19   </td> <td>18     </td> <td>16     </td> <td>8   </td> <td>18    </td> <td>18  </td> <td>25   </td> <td>42  </td> <td>18  </td> <td>57  </td> <td>70   </td> <td>126 </td> <td>9   </td> <td>128 </td> <td>9    </td> <td>nan </td> <td>20  </td> <td>23  </td> <td>19  </td> <td>25  </td> <td>SD  </td>\n",
       "        </tr>\n",
       "        <tr>\n",
       "            <td>24  </td> <td>2   </td> <td>F   </td> <td>Y   </td> <td>Y    </td> <td>3   </td> <td>N    </td> <td>N      </td> <td>N    </td> <td>2.05</td> <td>2.5  </td> <td>0   </td> <td>F       </td> <td>Y      </td> <td>E      </td> <td>25   </td> <td>17     </td> <td>17     </td> <td>22  </td> <td>30    </td> <td>40  </td> <td>30   </td> <td>36  </td> <td>18  </td> <td>55  </td> <td>50   </td> <td>107 </td> <td>14  </td> <td>108 </td> <td>9    </td> <td>8   </td> <td>31  </td> <td>32  </td> <td>33  </td> <td>32  </td> <td>AG  </td>\n",
       "        </tr>\n",
       "    </tbody>\n",
       "</table>\n",
       "<p>... (155 rows omitted)</p>"
      ],
      "text/plain": [
       "Age  | Yr   | Sex  | G21  | Corps | Res  | Greek | VarsAth | Honor | GPA  | Sleep | Caff | SitClass | AccDate | Friends | TxRel | Stress1 | Stress2 | CHS  | Thrill | Eat  | TypeA | Anx  | Opt  | SE   | Neuro | Perf | OCD  | Play | Extro | Narc | HSAF | HSSE | HSAG | HSSD | PHS\n",
       "22   | 4    | M    | Y    | N     | 2    | N     | Y       | N     | 3.01 | 5     | 1    | M        | N       | E       | 22    | 17      | 18      | 33   | 23     | 13   | 30    | 25   | 26   | 62   | 34    | 104  | 11   | 143  | 10    | 9    | 51   | 54   | 46   | 21   | AG\n",
       "19   | 2    | F    | N    | N     | 1    | N     | N       | N     | 3.75 | 7.5   | 0    | M        | N       | E       | 28    | 9       | 7       | 20   | 15     | 21   | 28    | 28   | 21   | 65   | 41    | 99   | 11   | 141  | 14    | 3    | 44   | 35   | 19   | 17   | AF\n",
       "23   | 1    | F    | Y    | N     | 1    | N     | N       | N     | 3.2  | 8.5   | 2    | F        | Y       | S       | 24    | 11      | 13      | 27   | 14     | 39   | 29    | 27   | 19   | 65   | 28    | 86   | 6    | 98   | 7     | 2    | 31   | 36   | 21   | 19   | SE\n",
       "19   | 3    | F    | N    | N     | 2    | Y     | N       | N     | 4    | 6     | 2    | F        | N       | S       | 27    | 15      | 14      | 26   | 13     | 45   | 28    | 33   | 24   | 63   | 30    | 118  | 3    | 121  | 8     | 4    | 34   | 36   | 30   | 33   | SD\n",
       "22   | 4    | M    | Y    | Y     | 3    | Y     | N       | Y     | 3.42 | 6     | 3    | B        | Y       | S       | 20    | 9       | 9       | 32   | 16     | 32   | 30    | 29   | 18   | 41   | 47    | 103  | 9    | 124  | 6     | 4    | 50   | 42   | 37   | 34   | AG\n",
       "18   | 1    | F    | N    | N     | 3    | N     | N       | N     | 3.7  | 2.5   | 1    | F        | Y       | E       | 21    | 16      | 15      | 25   | 18     | 32   | 30    | 46   | 19   | 48   | 53    | 113  | 16   | 131  | 6     | 2    | 33   | 32   | 29   | 33   | SD\n",
       "19   | 2    | M    | N    | N     | 3    | N     | N       | N     | 2.8  | 7     | 0    | B        | N       | E       | 23    | 13      | 15      | 25   | 15     | 19   | nan   | nan  | nan  | nan  | nan   | 105  | 16   | 121  | 5     | 5    | nan  | nan  | nan  | nan  | nan\n",
       "20   | 3    | M    | N    | Y     | 1    | Y     | N       | N     | 3.34 | 6.5   | 3    | B        | N       | E       | 29    | 12      | 10      | 21   | 18     | 32   | 32    | 30   | 23   | 62   | 23    | 95   | 4    | 104  | 11    | 6    | 35   | 32   | 30   | 32   | SD\n",
       "21   | 3    | F    | Y    | N     | 2    | Y     | N       | N     | 3.47 | 5.5   | 2    | F        | Y       | E       | 19    | 18      | 16      | 8    | 18     | 18   | 25    | 42   | 18   | 57   | 70    | 126  | 9    | 128  | 9     | nan  | 20   | 23   | 19   | 25   | SD\n",
       "24   | 2    | F    | Y    | Y     | 3    | N     | N       | N     | 2.05 | 2.5   | 0    | F        | Y       | E       | 25    | 17      | 17      | 22   | 30     | 40   | 30    | 36   | 18   | 55   | 50    | 107  | 14   | 108  | 9     | 8    | 31   | 32   | 33   | 32   | AG\n",
       "... (155 rows omitted)"
      ]
     },
     "execution_count": 4,
     "metadata": {},
     "output_type": "execute_result"
    }
   ],
   "source": [
    "pers"
   ]
  },
  {
   "cell_type": "code",
   "execution_count": 5,
   "metadata": {},
   "outputs": [],
   "source": [
    "narc = pers.select('Sex','Narc')"
   ]
  },
  {
   "cell_type": "markdown",
   "metadata": {},
   "source": [
    "The `nan` value indicates there is no value for that cell in the table. In this case, it's a survey item that went unanswered. The `numpy` function `nanmean` takes the average but ignores any `nan` values. In a clean table, we could just use `np.mean`, instead."
   ]
  },
  {
   "cell_type": "code",
   "execution_count": 6,
   "metadata": {},
   "outputs": [
    {
     "data": {
      "text/html": [
       "<table border=\"1\" class=\"dataframe\">\n",
       "    <thead>\n",
       "        <tr>\n",
       "            <th>Sex</th> <th>Narc nanmean</th>\n",
       "        </tr>\n",
       "    </thead>\n",
       "    <tbody>\n",
       "        <tr>\n",
       "            <td>F   </td> <td>3.81176     </td>\n",
       "        </tr>\n",
       "        <tr>\n",
       "            <td>M   </td> <td>5.57143     </td>\n",
       "        </tr>\n",
       "    </tbody>\n",
       "</table>"
      ],
      "text/plain": [
       "Sex  | Narc nanmean\n",
       "F    | 3.81176\n",
       "M    | 5.57143"
      ]
     },
     "execution_count": 6,
     "metadata": {},
     "output_type": "execute_result"
    }
   ],
   "source": [
    "narc.group('Sex', np.nanmean)"
   ]
  },
  {
   "cell_type": "code",
   "execution_count": 7,
   "metadata": {},
   "outputs": [
    {
     "name": "stderr",
     "output_type": "stream",
     "text": [
      "C:\\Users\\robbs\\anaconda3\\envs\\datasci\\lib\\site-packages\\datascience\\tables.py:920: VisibleDeprecationWarning: Creating an ndarray from ragged nested sequences (which is a list-or-tuple of lists-or-tuples-or ndarrays with different lengths or shapes) is deprecated. If you meant to do this, you must specify 'dtype=object' when creating the ndarray.\n",
      "  values = np.array(tuple(values))\n"
     ]
    },
    {
     "data": {
      "image/png": "[encoded data removed]",
      "text/plain": [
       "<Figure size 432x288 with 1 Axes>"
      ]
     },
     "metadata": {
      "filenames": {
       "image/png": "C:\\Users\\robbs\\Documents\\Conda\\GitBook\\stats\\_build\\jupyter_execute\\sb\\1_9_1.png"
      }
     },
     "output_type": "display_data"
    }
   ],
   "source": [
    "integer_bins = np.arange(15)\n",
    "narc.hist('Narc', group = \"Sex\", bins = integer_bins)\n",
    "_=plots.title('Narcissism by Sex')"
   ]
  },
  {
   "cell_type": "code",
   "execution_count": 8,
   "metadata": {},
   "outputs": [],
   "source": [
    "males_narcissism = narc.where('Sex',\"M\").column('Narc')"
   ]
  },
  {
   "cell_type": "code",
   "execution_count": 9,
   "metadata": {},
   "outputs": [],
   "source": [
    "females_narcissism = narc.where('Sex',\"F\").column('Narc')"
   ]
  },
  {
   "cell_type": "code",
   "execution_count": 10,
   "metadata": {},
   "outputs": [
    {
     "name": "stdout",
     "output_type": "stream",
     "text": [
      "The average narcissism level for males is 5.57 \r\n",
      " and the average narcissism level for females is 3.81\n"
     ]
    }
   ],
   "source": [
    "print('The average narcissism level for males is',\n",
    "      np.round(np.nanmean(males_narcissism),2),\n",
    "      \"\\r\\n\",\n",
    "      'and the average narcissism level for females is', \n",
    "      np.round(np.nanmean(females_narcissism),2)\n",
    "     )"
   ]
  },
  {
   "cell_type": "code",
   "execution_count": 11,
   "metadata": {},
   "outputs": [],
   "source": [
    "from scipy import stats"
   ]
  },
  {
   "cell_type": "code",
   "execution_count": 12,
   "metadata": {},
   "outputs": [
    {
     "data": {
      "text/plain": [
       "Ttest_indResult(statistic=4.043565981367274, pvalue=8.492076949117668e-05)"
      ]
     },
     "execution_count": 12,
     "metadata": {},
     "output_type": "execute_result"
    }
   ],
   "source": [
    "stats.ttest_ind(males_narcissism, females_narcissism, axis=0, \n",
    "                equal_var=True, \n",
    "                nan_policy='omit', \n",
    "                alternative='two-sided')"
   ]
  }
 ],
 "metadata": {
  "kernelspec": {
   "display_name": "Python 3",
   "language": "python",
   "name": "python3"
  },
  "language_info": {
   "codemirror_mode": {
    "name": "ipython",
    "version": 3
   },
   "file_extension": ".py",
   "mimetype": "text/x-python",
   "name": "python",
   "nbconvert_exporter": "python",
   "pygments_lexer": "ipython3",
   "version": "3.7.6"
  }
 },
 "nbformat": 4,
 "nbformat_minor": 4
}